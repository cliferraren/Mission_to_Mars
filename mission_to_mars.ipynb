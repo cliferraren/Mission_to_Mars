{
 "cells": [
  {
   "cell_type": "markdown",
   "metadata": {},
   "source": [
    "## Step 1 - Scraping\n",
    "\n",
    "Complete your initial scraping using Jupyter Notebook, BeautifulSoup, Pandas, and Requests/Splinter.\n",
    "\n",
    "* Create a Jupyter Notebook file called `mission_to_mars.ipynb` and use this to complete all of your scraping and analysis tasks. The following outlines what you need to scrape."
   ]
  },
  {
   "cell_type": "code",
   "execution_count": 1,
   "metadata": {},
   "outputs": [],
   "source": [
    "#Import Dependencies needed to scrape HTML\n",
    "#BeautifulSoup\n",
    "#splinter"
   ]
  },
  {
   "cell_type": "code",
   "execution_count": 2,
   "metadata": {},
   "outputs": [],
   "source": [
    "import time\n",
    "from splinter import Browser\n",
    "from bs4 import BeautifulSoup as bs"
   ]
  },
  {
   "cell_type": "code",
   "execution_count": 3,
   "metadata": {},
   "outputs": [],
   "source": [
    "#Function to init browser to Chrome\n",
    "\n",
    "def init_browser():\n",
    "    executable_path = {\"executable_path\": \"/Users/rck/chrome_driver/chromedriver\"}\n",
    "    return Browser(\"chrome\", **executable_path, headless=False)"
   ]
  },
  {
   "cell_type": "code",
   "execution_count": null,
   "metadata": {},
   "outputs": [],
   "source": [
    "#Function to scrape the Latest News Article from NASA\n",
    "#get only the first(latest) article\n",
    "\n",
    "def get_news():\n",
    "    url = 'https://mars.nasa.gov/news/?page=0&per_page=40&order=publish_date+desc%2Ccreated_at+desc&search=&category=19%2C165%2C184%2C204&blank_scope=Latest'\n",
    "    \n",
    "    #try catch block to catch if error is encountered, pass will return the title and paragraph element of the article\n",
    "    try:\n",
    "        browser.visit(url)\n",
    "        html_string = browser.html\n",
    "        soup = bs(html_string, 'html.parser')\n",
    "\n",
    "        div = soup.find('div', attrs={'class': 'list_text'})\n",
    "        title=div.findNext('div', {'class': 'content_title'}).text            \n",
    "        description=div.findNext('div', {'class': 'article_teaser_body'}).text\n",
    "    except:\n",
    "        pass\n",
    "    return {\"news_title\":title,\"news_p\":description}"
   ]
  },
  {
   "cell_type": "code",
   "execution_count": null,
   "metadata": {},
   "outputs": [],
   "source": [
    "def get_featured_image():\n",
    "    url = 'https://www.jpl.nasa.gov/spaceimages/?search=&category=Mars'\n",
    "    try:\n",
    "        browser.visit(url)\n",
    "        button = browser.find_by_id(\"full_image\")\n",
    "        button.click()\n",
    "        time.sleep(2)\n",
    "\n",
    "        html_string = browser.html\n",
    "        soup = bs(html_string, 'html.parser')\n",
    "        anchor = soup.find('a','ready')\n",
    "        if anchor.img:\n",
    "            image_url = anchor.img['src']\n",
    "        featured_image_url = \"https://www.jpl.nasa.gov\" + image_url      \n",
    "    except:\n",
    "        pass\n",
    "    return featured_image_url"
   ]
  },
  {
   "cell_type": "code",
   "execution_count": null,
   "metadata": {},
   "outputs": [],
   "source": [
    "def get_latest_weather():\n",
    "    url = 'https://twitter.com/marswxreport?lang=en'\n",
    "    try:\n",
    "        browser.visit(url)\n",
    "        html_string = browser.html\n",
    "        soup = bs(html_string, 'lxml')\n",
    "        \n",
    "        latest_weather = soup.find('div','js-tweet-text-container').text.strip()\n",
    "    except:\n",
    "        pass\n",
    "    return latest_weather "
   ]
  },
  {
   "cell_type": "code",
   "execution_count": null,
   "metadata": {},
   "outputs": [],
   "source": [
    "def get_facts(): \n",
    "    url = 'https://space-facts.com/mars/'\n",
    "    try:\n",
    "        browser.visit(url)\n",
    "        html_string = browser.html\n",
    "        soup = bs(html_string, 'lxml')\n",
    "\n",
    "        keys =[]\n",
    "        values=[]\n",
    "        table = soup.find('table','tablepress tablepress-id-mars')\n",
    "        for row in table.find_all('tr'):\n",
    "            columns = row.find_all('td')\n",
    "            keys.append(columns[0].text)\n",
    "            values.append(columns[1].text)\n",
    "        facts = dict(zip(keys, values))\n",
    "    except:\n",
    "        pass\n",
    "    return facts"
   ]
  },
  {
   "cell_type": "code",
   "execution_count": null,
   "metadata": {},
   "outputs": [],
   "source": [
    "def get_hemispheres():\n",
    "    hemisphere_image_urls = []\n",
    "    url = 'https://astrogeology.usgs.gov/search/results?q=hemisphere+enhanced&k1=target&v1=Mars' \n",
    "    try:\n",
    "        browser.visit(url)     \n",
    "        html_string = browser.html\n",
    "        soup = bs(html_string, 'lxml')\n",
    "\n",
    "        for header in soup.find_all(\"h3\"):\n",
    "            title = header.text\n",
    "            uri = header.find_previous(\"a\")\n",
    "            image_url = 'https://astrogeology.usgs.gov'+ uri['href'] \n",
    "            browser.visit(image_url)\n",
    "\n",
    "            sub_html_string = browser.html\n",
    "            sub_soup = bs(sub_html_string, 'lxml')\n",
    "            image_url='https://astrogeology.usgs.gov' + str(sub_soup.find('img','wide-image')['src'])\n",
    "            hemisphere_image_urls.append({\"title\": title, \"img_url\": image_url})\n",
    "            browser.back()\n",
    "    except:\n",
    "        pass\n",
    "    return hemisphere_image_urls"
   ]
  },
  {
   "cell_type": "code",
   "execution_count": null,
   "metadata": {},
   "outputs": [],
   "source": [
    "def scrape():\n",
    "    output ={}\n",
    "    news=get_news()\n",
    "    featured_image_url= get_featured_image()\n",
    "    latest_weather=get_latest_weather()\n",
    "    facts =get_facts()\n",
    "    hemisphere_image_urls =get_hemispheres()\n",
    "    output ={ \"news\":news,\"featured_image_url\":featured_image_url,\"weather\":latest_weather,\"facts\":facts, \"hemisphere_image_urls\":hemisphere_image_urls\n",
    "    }\n",
    "    return output "
   ]
  },
  {
   "cell_type": "code",
   "execution_count": null,
   "metadata": {},
   "outputs": [],
   "source": [
    "browser = init_browser()\n",
    "output = scrape()"
   ]
  },
  {
   "cell_type": "code",
   "execution_count": null,
   "metadata": {},
   "outputs": [],
   "source": [
    "import json\n",
    "print(json.dumps(output,indent=4))"
   ]
  },
  {
   "cell_type": "code",
   "execution_count": null,
   "metadata": {},
   "outputs": [],
   "source": [
    "type(output)"
   ]
  },
  {
   "cell_type": "code",
   "execution_count": null,
   "metadata": {},
   "outputs": [],
   "source": [
    "from pymongo import MongoClient"
   ]
  },
  {
   "cell_type": "code",
   "execution_count": null,
   "metadata": {},
   "outputs": [],
   "source": [
    "client = MongoClient(\"mongodb://localhost:27017\")\n",
    "db = client.mission_to_mars"
   ]
  },
  {
   "cell_type": "code",
   "execution_count": null,
   "metadata": {},
   "outputs": [],
   "source": [
    "new_data = db.general.find_one()\n",
    "new_data"
   ]
  },
  {
   "cell_type": "code",
   "execution_count": null,
   "metadata": {},
   "outputs": [],
   "source": [
    "type(new_data)"
   ]
  },
  {
   "cell_type": "code",
   "execution_count": null,
   "metadata": {},
   "outputs": [],
   "source": [
    "for k, v in new_data.items(): \n",
    "    if k == \"news\":\n",
    "        news = v\n",
    "    elif k == \"featured_image_url\":\n",
    "        featured_image_url = v\n",
    "    elif k == \"weather\":\n",
    "        weather = v\n",
    "    elif k == \"facts\":\n",
    "        facts = v\n",
    "    elif k == \"hemisphere_image_urls\":\n",
    "        hemisphere_image_urls = v\n",
    "print(news)\n",
    "print(featured_image_url)\n",
    "print(weather)\n",
    "print(facts)\n",
    "print(hemisphere_image_urls)"
   ]
  }
 ],
 "metadata": {
  "kernelspec": {
   "display_name": "Python 3",
   "language": "python",
   "name": "python3"
  },
  "language_info": {
   "codemirror_mode": {
    "name": "ipython",
    "version": 3
   },
   "file_extension": ".py",
   "mimetype": "text/x-python",
   "name": "python",
   "nbconvert_exporter": "python",
   "pygments_lexer": "ipython3",
   "version": "3.6.4"
  }
 },
 "nbformat": 4,
 "nbformat_minor": 2
}
